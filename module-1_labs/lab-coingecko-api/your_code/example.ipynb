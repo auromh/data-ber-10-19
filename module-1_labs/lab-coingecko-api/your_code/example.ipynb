{
 "cells": [
  {
   "cell_type": "code",
   "execution_count": 1,
   "metadata": {},
   "outputs": [],
   "source": [
    "import pandas as pd\n",
    "import requests\n",
    "import json\n",
    "import matplotlib\n",
    "%matplotlib inline"
   ]
  },
  {
   "cell_type": "markdown",
   "metadata": {},
   "source": [
    "# Dogecoin and Bitcoin market value for last 30 days, vs. USD, deliver a DF and a Plot"
   ]
  },
  {
   "cell_type": "code",
   "execution_count": 2,
   "metadata": {},
   "outputs": [],
   "source": [
    "base = 'https://api.coingecko.com/api/v3/'"
   ]
  },
  {
   "cell_type": "code",
   "execution_count": 3,
   "metadata": {},
   "outputs": [],
   "source": [
    "url = base + 'coins/bitcoin/market_chart?vs_currency=usd&days=30'"
   ]
  },
  {
   "cell_type": "code",
   "execution_count": 4,
   "metadata": {},
   "outputs": [],
   "source": [
    "result = requests.get(url)\n",
    "j_bc = result.json()"
   ]
  },
  {
   "cell_type": "code",
   "execution_count": 7,
   "metadata": {},
   "outputs": [
    {
     "data": {
      "text/html": [
       "<div>\n",
       "<style scoped>\n",
       "    .dataframe tbody tr th:only-of-type {\n",
       "        vertical-align: middle;\n",
       "    }\n",
       "\n",
       "    .dataframe tbody tr th {\n",
       "        vertical-align: top;\n",
       "    }\n",
       "\n",
       "    .dataframe thead th {\n",
       "        text-align: right;\n",
       "    }\n",
       "</style>\n",
       "<table border=\"1\" class=\"dataframe\">\n",
       "  <thead>\n",
       "    <tr style=\"text-align: right;\">\n",
       "      <th></th>\n",
       "      <th>time</th>\n",
       "      <th>price</th>\n",
       "    </tr>\n",
       "  </thead>\n",
       "  <tbody>\n",
       "    <tr>\n",
       "      <td>0</td>\n",
       "      <td>1569763781187</td>\n",
       "      <td>8014.279938</td>\n",
       "    </tr>\n",
       "    <tr>\n",
       "      <td>1</td>\n",
       "      <td>1569767850478</td>\n",
       "      <td>8034.732651</td>\n",
       "    </tr>\n",
       "    <tr>\n",
       "      <td>2</td>\n",
       "      <td>1569771597541</td>\n",
       "      <td>7958.094068</td>\n",
       "    </tr>\n",
       "    <tr>\n",
       "      <td>3</td>\n",
       "      <td>1569775467720</td>\n",
       "      <td>8023.803836</td>\n",
       "    </tr>\n",
       "    <tr>\n",
       "      <td>4</td>\n",
       "      <td>1569779233652</td>\n",
       "      <td>8010.676385</td>\n",
       "    </tr>\n",
       "    <tr>\n",
       "      <td>...</td>\n",
       "      <td>...</td>\n",
       "      <td>...</td>\n",
       "    </tr>\n",
       "    <tr>\n",
       "      <td>709</td>\n",
       "      <td>1572343446206</td>\n",
       "      <td>9389.344142</td>\n",
       "    </tr>\n",
       "    <tr>\n",
       "      <td>710</td>\n",
       "      <td>1572346953947</td>\n",
       "      <td>9467.357416</td>\n",
       "    </tr>\n",
       "    <tr>\n",
       "      <td>711</td>\n",
       "      <td>1572350657679</td>\n",
       "      <td>9452.917796</td>\n",
       "    </tr>\n",
       "    <tr>\n",
       "      <td>712</td>\n",
       "      <td>1572354333097</td>\n",
       "      <td>9398.917790</td>\n",
       "    </tr>\n",
       "    <tr>\n",
       "      <td>713</td>\n",
       "      <td>1572354763000</td>\n",
       "      <td>9411.102197</td>\n",
       "    </tr>\n",
       "  </tbody>\n",
       "</table>\n",
       "<p>714 rows × 2 columns</p>\n",
       "</div>"
      ],
      "text/plain": [
       "              time        price\n",
       "0    1569763781187  8014.279938\n",
       "1    1569767850478  8034.732651\n",
       "2    1569771597541  7958.094068\n",
       "3    1569775467720  8023.803836\n",
       "4    1569779233652  8010.676385\n",
       "..             ...          ...\n",
       "709  1572343446206  9389.344142\n",
       "710  1572346953947  9467.357416\n",
       "711  1572350657679  9452.917796\n",
       "712  1572354333097  9398.917790\n",
       "713  1572354763000  9411.102197\n",
       "\n",
       "[714 rows x 2 columns]"
      ]
     },
     "execution_count": 7,
     "metadata": {},
     "output_type": "execute_result"
    }
   ],
   "source": [
    "df_bc=pd.DataFrame(j_bc[\"prices\"],columns=[\"time\",\"price\"])\n",
    "df_bc"
   ]
  },
  {
   "cell_type": "code",
   "execution_count": 8,
   "metadata": {},
   "outputs": [],
   "source": [
    "url = base + 'coins/dogecoin/market_chart'"
   ]
  },
  {
   "cell_type": "code",
   "execution_count": 9,
   "metadata": {},
   "outputs": [],
   "source": [
    "param_dict = { 'id':'dogecoin', \n",
    "              'vs_currency':'usd', \n",
    "              'days':30}"
   ]
  },
  {
   "cell_type": "code",
   "execution_count": 10,
   "metadata": {},
   "outputs": [],
   "source": [
    "result = requests.get(url, params=param_dict)"
   ]
  },
  {
   "cell_type": "code",
   "execution_count": 13,
   "metadata": {},
   "outputs": [
    {
     "data": {
      "text/html": [
       "<div>\n",
       "<style scoped>\n",
       "    .dataframe tbody tr th:only-of-type {\n",
       "        vertical-align: middle;\n",
       "    }\n",
       "\n",
       "    .dataframe tbody tr th {\n",
       "        vertical-align: top;\n",
       "    }\n",
       "\n",
       "    .dataframe thead th {\n",
       "        text-align: right;\n",
       "    }\n",
       "</style>\n",
       "<table border=\"1\" class=\"dataframe\">\n",
       "  <thead>\n",
       "    <tr style=\"text-align: right;\">\n",
       "      <th></th>\n",
       "      <th>time</th>\n",
       "      <th>price</th>\n",
       "    </tr>\n",
       "  </thead>\n",
       "  <tbody>\n",
       "    <tr>\n",
       "      <td>0</td>\n",
       "      <td>1569763781735</td>\n",
       "      <td>0.002178</td>\n",
       "    </tr>\n",
       "    <tr>\n",
       "      <td>1</td>\n",
       "      <td>1569767851512</td>\n",
       "      <td>0.002181</td>\n",
       "    </tr>\n",
       "    <tr>\n",
       "      <td>2</td>\n",
       "      <td>1569771592739</td>\n",
       "      <td>0.002271</td>\n",
       "    </tr>\n",
       "    <tr>\n",
       "      <td>3</td>\n",
       "      <td>1569775462824</td>\n",
       "      <td>0.002299</td>\n",
       "    </tr>\n",
       "    <tr>\n",
       "      <td>4</td>\n",
       "      <td>1569779227011</td>\n",
       "      <td>0.002300</td>\n",
       "    </tr>\n",
       "    <tr>\n",
       "      <td>5</td>\n",
       "      <td>1569782962772</td>\n",
       "      <td>0.002174</td>\n",
       "    </tr>\n",
       "    <tr>\n",
       "      <td>6</td>\n",
       "      <td>1569786724676</td>\n",
       "      <td>0.002202</td>\n",
       "    </tr>\n",
       "    <tr>\n",
       "      <td>7</td>\n",
       "      <td>1569790163446</td>\n",
       "      <td>0.002215</td>\n",
       "    </tr>\n",
       "    <tr>\n",
       "      <td>8</td>\n",
       "      <td>1569793836006</td>\n",
       "      <td>0.002219</td>\n",
       "    </tr>\n",
       "    <tr>\n",
       "      <td>9</td>\n",
       "      <td>1569797841686</td>\n",
       "      <td>0.002237</td>\n",
       "    </tr>\n",
       "  </tbody>\n",
       "</table>\n",
       "</div>"
      ],
      "text/plain": [
       "            time     price\n",
       "0  1569763781735  0.002178\n",
       "1  1569767851512  0.002181\n",
       "2  1569771592739  0.002271\n",
       "3  1569775462824  0.002299\n",
       "4  1569779227011  0.002300\n",
       "5  1569782962772  0.002174\n",
       "6  1569786724676  0.002202\n",
       "7  1569790163446  0.002215\n",
       "8  1569793836006  0.002219\n",
       "9  1569797841686  0.002237"
      ]
     },
     "execution_count": 13,
     "metadata": {},
     "output_type": "execute_result"
    }
   ],
   "source": [
    "j_dc=result.json()\n",
    "df_dc = pd.DataFrame(j_dc['prices'], columns=['time', 'price'])\n",
    "df_dc.head(10)"
   ]
  },
  {
   "cell_type": "code",
   "execution_count": 16,
   "metadata": {},
   "outputs": [],
   "source": [
    "df_bc['time'] = pd.to_datetime(df_bc['time'], unit='ms')"
   ]
  },
  {
   "cell_type": "code",
   "execution_count": 18,
   "metadata": {},
   "outputs": [
    {
     "data": {
      "text/html": [
       "<div>\n",
       "<style scoped>\n",
       "    .dataframe tbody tr th:only-of-type {\n",
       "        vertical-align: middle;\n",
       "    }\n",
       "\n",
       "    .dataframe tbody tr th {\n",
       "        vertical-align: top;\n",
       "    }\n",
       "\n",
       "    .dataframe thead th {\n",
       "        text-align: right;\n",
       "    }\n",
       "</style>\n",
       "<table border=\"1\" class=\"dataframe\">\n",
       "  <thead>\n",
       "    <tr style=\"text-align: right;\">\n",
       "      <th></th>\n",
       "      <th>price</th>\n",
       "    </tr>\n",
       "    <tr>\n",
       "      <th>time</th>\n",
       "      <th></th>\n",
       "    </tr>\n",
       "  </thead>\n",
       "  <tbody>\n",
       "    <tr>\n",
       "      <td>2019-09-29 13:29:41.187</td>\n",
       "      <td>8014.279938</td>\n",
       "    </tr>\n",
       "    <tr>\n",
       "      <td>2019-09-29 14:37:30.478</td>\n",
       "      <td>8034.732651</td>\n",
       "    </tr>\n",
       "    <tr>\n",
       "      <td>2019-09-29 15:39:57.541</td>\n",
       "      <td>7958.094068</td>\n",
       "    </tr>\n",
       "    <tr>\n",
       "      <td>2019-09-29 16:44:27.720</td>\n",
       "      <td>8023.803836</td>\n",
       "    </tr>\n",
       "    <tr>\n",
       "      <td>2019-09-29 17:47:13.652</td>\n",
       "      <td>8010.676385</td>\n",
       "    </tr>\n",
       "    <tr>\n",
       "      <td>2019-09-29 18:48:10.746</td>\n",
       "      <td>7987.627938</td>\n",
       "    </tr>\n",
       "    <tr>\n",
       "      <td>2019-09-29 19:52:07.662</td>\n",
       "      <td>7947.384495</td>\n",
       "    </tr>\n",
       "    <tr>\n",
       "      <td>2019-09-29 20:49:25.584</td>\n",
       "      <td>8011.989623</td>\n",
       "    </tr>\n",
       "    <tr>\n",
       "      <td>2019-09-29 21:50:33.921</td>\n",
       "      <td>8053.903821</td>\n",
       "    </tr>\n",
       "    <tr>\n",
       "      <td>2019-09-29 22:57:04.455</td>\n",
       "      <td>8082.111508</td>\n",
       "    </tr>\n",
       "  </tbody>\n",
       "</table>\n",
       "</div>"
      ],
      "text/plain": [
       "                               price\n",
       "time                                \n",
       "2019-09-29 13:29:41.187  8014.279938\n",
       "2019-09-29 14:37:30.478  8034.732651\n",
       "2019-09-29 15:39:57.541  7958.094068\n",
       "2019-09-29 16:44:27.720  8023.803836\n",
       "2019-09-29 17:47:13.652  8010.676385\n",
       "2019-09-29 18:48:10.746  7987.627938\n",
       "2019-09-29 19:52:07.662  7947.384495\n",
       "2019-09-29 20:49:25.584  8011.989623\n",
       "2019-09-29 21:50:33.921  8053.903821\n",
       "2019-09-29 22:57:04.455  8082.111508"
      ]
     },
     "execution_count": 18,
     "metadata": {},
     "output_type": "execute_result"
    }
   ],
   "source": [
    "df_bc.set_index('time', inplace=True)\n",
    "df_bc.head(10)"
   ]
  },
  {
   "cell_type": "code",
   "execution_count": 19,
   "metadata": {},
   "outputs": [
    {
     "data": {
      "text/html": [
       "<div>\n",
       "<style scoped>\n",
       "    .dataframe tbody tr th:only-of-type {\n",
       "        vertical-align: middle;\n",
       "    }\n",
       "\n",
       "    .dataframe tbody tr th {\n",
       "        vertical-align: top;\n",
       "    }\n",
       "\n",
       "    .dataframe thead th {\n",
       "        text-align: right;\n",
       "    }\n",
       "</style>\n",
       "<table border=\"1\" class=\"dataframe\">\n",
       "  <thead>\n",
       "    <tr style=\"text-align: right;\">\n",
       "      <th></th>\n",
       "      <th>price</th>\n",
       "    </tr>\n",
       "    <tr>\n",
       "      <th>time</th>\n",
       "      <th></th>\n",
       "    </tr>\n",
       "  </thead>\n",
       "  <tbody>\n",
       "    <tr>\n",
       "      <td>2019-09-29 13:29:41.735</td>\n",
       "      <td>0.002178</td>\n",
       "    </tr>\n",
       "    <tr>\n",
       "      <td>2019-09-29 14:37:31.512</td>\n",
       "      <td>0.002181</td>\n",
       "    </tr>\n",
       "    <tr>\n",
       "      <td>2019-09-29 15:39:52.739</td>\n",
       "      <td>0.002271</td>\n",
       "    </tr>\n",
       "    <tr>\n",
       "      <td>2019-09-29 16:44:22.824</td>\n",
       "      <td>0.002299</td>\n",
       "    </tr>\n",
       "    <tr>\n",
       "      <td>2019-09-29 17:47:07.011</td>\n",
       "      <td>0.002300</td>\n",
       "    </tr>\n",
       "    <tr>\n",
       "      <td>2019-09-29 18:49:22.772</td>\n",
       "      <td>0.002174</td>\n",
       "    </tr>\n",
       "    <tr>\n",
       "      <td>2019-09-29 19:52:04.676</td>\n",
       "      <td>0.002202</td>\n",
       "    </tr>\n",
       "    <tr>\n",
       "      <td>2019-09-29 20:49:23.446</td>\n",
       "      <td>0.002215</td>\n",
       "    </tr>\n",
       "    <tr>\n",
       "      <td>2019-09-29 21:50:36.006</td>\n",
       "      <td>0.002219</td>\n",
       "    </tr>\n",
       "    <tr>\n",
       "      <td>2019-09-29 22:57:21.686</td>\n",
       "      <td>0.002237</td>\n",
       "    </tr>\n",
       "  </tbody>\n",
       "</table>\n",
       "</div>"
      ],
      "text/plain": [
       "                            price\n",
       "time                             \n",
       "2019-09-29 13:29:41.735  0.002178\n",
       "2019-09-29 14:37:31.512  0.002181\n",
       "2019-09-29 15:39:52.739  0.002271\n",
       "2019-09-29 16:44:22.824  0.002299\n",
       "2019-09-29 17:47:07.011  0.002300\n",
       "2019-09-29 18:49:22.772  0.002174\n",
       "2019-09-29 19:52:04.676  0.002202\n",
       "2019-09-29 20:49:23.446  0.002215\n",
       "2019-09-29 21:50:36.006  0.002219\n",
       "2019-09-29 22:57:21.686  0.002237"
      ]
     },
     "execution_count": 19,
     "metadata": {},
     "output_type": "execute_result"
    }
   ],
   "source": [
    "df_dc['time'] = pd.to_datetime(df_dc['time'], unit='ms')\n",
    "\n",
    "df_dc.set_index('time', inplace=True)\n",
    "df_dc.head(10)"
   ]
  },
  {
   "cell_type": "code",
   "execution_count": 20,
   "metadata": {},
   "outputs": [
    {
     "data": {
      "image/png": "[encoded data removed]",
      "text/plain": [
       "<Figure size 432x288 with 1 Axes>"
      ]
     },
     "metadata": {
      "needs_background": "light"
     },
     "output_type": "display_data"
    }
   ],
   "source": [
    "df_bc.plot();"
   ]
  },
  {
   "cell_type": "code",
   "execution_count": 21,
   "metadata": {},
   "outputs": [
    {
     "data": {
      "image/png": "[encoded data removed]",
      "text/plain": [
       "<Figure size 432x288 with 1 Axes>"
      ]
     },
     "metadata": {
      "needs_background": "light"
     },
     "output_type": "display_data"
    }
   ],
   "source": [
    "df_dc.plot();"
   ]
  },
  {
   "cell_type": "markdown",
   "metadata": {},
   "source": [
    "# Top ten coins report"
   ]
  },
  {
   "cell_type": "code",
   "execution_count": 22,
   "metadata": {},
   "outputs": [],
   "source": [
    "url = base + 'coins/list'"
   ]
  },
  {
   "cell_type": "code",
   "execution_count": 23,
   "metadata": {},
   "outputs": [
    {
     "data": {
      "text/html": [
       "<div>\n",
       "<style scoped>\n",
       "    .dataframe tbody tr th:only-of-type {\n",
       "        vertical-align: middle;\n",
       "    }\n",
       "\n",
       "    .dataframe tbody tr th {\n",
       "        vertical-align: top;\n",
       "    }\n",
       "\n",
       "    .dataframe thead th {\n",
       "        text-align: right;\n",
       "    }\n",
       "</style>\n",
       "<table border=\"1\" class=\"dataframe\">\n",
       "  <thead>\n",
       "    <tr style=\"text-align: right;\">\n",
       "      <th></th>\n",
       "      <th>id</th>\n",
       "      <th>symbol</th>\n",
       "      <th>name</th>\n",
       "    </tr>\n",
       "  </thead>\n",
       "  <tbody>\n",
       "    <tr>\n",
       "      <td>0</td>\n",
       "      <td>01coin</td>\n",
       "      <td>zoc</td>\n",
       "      <td>01coin</td>\n",
       "    </tr>\n",
       "    <tr>\n",
       "      <td>1</td>\n",
       "      <td>02-token</td>\n",
       "      <td>o2t</td>\n",
       "      <td>O2 Token</td>\n",
       "    </tr>\n",
       "    <tr>\n",
       "      <td>2</td>\n",
       "      <td>0chain</td>\n",
       "      <td>zcn</td>\n",
       "      <td>0chain</td>\n",
       "    </tr>\n",
       "    <tr>\n",
       "      <td>3</td>\n",
       "      <td>0x</td>\n",
       "      <td>zrx</td>\n",
       "      <td>0x</td>\n",
       "    </tr>\n",
       "    <tr>\n",
       "      <td>4</td>\n",
       "      <td>0xcert</td>\n",
       "      <td>zxc</td>\n",
       "      <td>0xcert</td>\n",
       "    </tr>\n",
       "    <tr>\n",
       "      <td>5</td>\n",
       "      <td>0xdark</td>\n",
       "      <td>oxd</td>\n",
       "      <td>0xDark</td>\n",
       "    </tr>\n",
       "    <tr>\n",
       "      <td>6</td>\n",
       "      <td>10m-token</td>\n",
       "      <td>10mt</td>\n",
       "      <td>10M Token</td>\n",
       "    </tr>\n",
       "    <tr>\n",
       "      <td>7</td>\n",
       "      <td>12ships</td>\n",
       "      <td>TSHP</td>\n",
       "      <td>12Ships</td>\n",
       "    </tr>\n",
       "    <tr>\n",
       "      <td>8</td>\n",
       "      <td>1337</td>\n",
       "      <td>1337</td>\n",
       "      <td>Elite</td>\n",
       "    </tr>\n",
       "    <tr>\n",
       "      <td>9</td>\n",
       "      <td>1irstcoin</td>\n",
       "      <td>fst</td>\n",
       "      <td>1irstcoin</td>\n",
       "    </tr>\n",
       "  </tbody>\n",
       "</table>\n",
       "</div>"
      ],
      "text/plain": [
       "          id symbol       name\n",
       "0     01coin    zoc     01coin\n",
       "1   02-token    o2t   O2 Token\n",
       "2     0chain    zcn     0chain\n",
       "3         0x    zrx         0x\n",
       "4     0xcert    zxc     0xcert\n",
       "5     0xdark    oxd     0xDark\n",
       "6  10m-token   10mt  10M Token\n",
       "7    12ships   TSHP    12Ships\n",
       "8       1337   1337      Elite\n",
       "9  1irstcoin    fst  1irstcoin"
      ]
     },
     "execution_count": 23,
     "metadata": {},
     "output_type": "execute_result"
    }
   ],
   "source": [
    "result = requests.get(url)\n",
    "j = result.json()\n",
    "\n",
    "df_list = pd.DataFrame(j)\n",
    "df_list.head(10)"
   ]
  },
  {
   "cell_type": "code",
   "execution_count": 28,
   "metadata": {},
   "outputs": [
    {
     "data": {
      "text/plain": [
       "0       01coin\n",
       "1     02-token\n",
       "2       0chain\n",
       "3           0x\n",
       "4       0xcert\n",
       "5       0xdark\n",
       "6    10m-token\n",
       "7      12ships\n",
       "8         1337\n",
       "9    1irstcoin\n",
       "Name: id, dtype: object"
      ]
     },
     "execution_count": 28,
     "metadata": {},
     "output_type": "execute_result"
    }
   ],
   "source": [
    "data_df = df_list.iloc[:10,0]\n",
    "data_df"
   ]
  },
  {
   "cell_type": "code",
   "execution_count": 29,
   "metadata": {},
   "outputs": [
    {
     "data": {
      "text/html": [
       "<div>\n",
       "<style scoped>\n",
       "    .dataframe tbody tr th:only-of-type {\n",
       "        vertical-align: middle;\n",
       "    }\n",
       "\n",
       "    .dataframe tbody tr th {\n",
       "        vertical-align: top;\n",
       "    }\n",
       "\n",
       "    .dataframe thead th {\n",
       "        text-align: right;\n",
       "    }\n",
       "</style>\n",
       "<table border=\"1\" class=\"dataframe\">\n",
       "  <thead>\n",
       "    <tr style=\"text-align: right;\">\n",
       "      <th></th>\n",
       "      <th>date_time</th>\n",
       "      <th>price</th>\n",
       "      <th>file_name</th>\n",
       "    </tr>\n",
       "  </thead>\n",
       "  <tbody>\n",
       "    <tr>\n",
       "      <td>0</td>\n",
       "      <td>1546473600000</td>\n",
       "      <td>0.006419</td>\n",
       "      <td>01coin</td>\n",
       "    </tr>\n",
       "    <tr>\n",
       "      <td>1</td>\n",
       "      <td>1546560000000</td>\n",
       "      <td>0.006019</td>\n",
       "      <td>01coin</td>\n",
       "    </tr>\n",
       "    <tr>\n",
       "      <td>2</td>\n",
       "      <td>1546646400000</td>\n",
       "      <td>0.005852</td>\n",
       "      <td>01coin</td>\n",
       "    </tr>\n",
       "    <tr>\n",
       "      <td>3</td>\n",
       "      <td>1546732800000</td>\n",
       "      <td>0.006123</td>\n",
       "      <td>01coin</td>\n",
       "    </tr>\n",
       "    <tr>\n",
       "      <td>4</td>\n",
       "      <td>1546819200000</td>\n",
       "      <td>0.005920</td>\n",
       "      <td>01coin</td>\n",
       "    </tr>\n",
       "    <tr>\n",
       "      <td>...</td>\n",
       "      <td>...</td>\n",
       "      <td>...</td>\n",
       "      <td>...</td>\n",
       "    </tr>\n",
       "    <tr>\n",
       "      <td>235</td>\n",
       "      <td>1572048000000</td>\n",
       "      <td>0.853054</td>\n",
       "      <td>1irstcoin</td>\n",
       "    </tr>\n",
       "    <tr>\n",
       "      <td>236</td>\n",
       "      <td>1572134400000</td>\n",
       "      <td>0.877668</td>\n",
       "      <td>1irstcoin</td>\n",
       "    </tr>\n",
       "    <tr>\n",
       "      <td>237</td>\n",
       "      <td>1572220800000</td>\n",
       "      <td>0.884037</td>\n",
       "      <td>1irstcoin</td>\n",
       "    </tr>\n",
       "    <tr>\n",
       "      <td>238</td>\n",
       "      <td>1572307200000</td>\n",
       "      <td>0.834614</td>\n",
       "      <td>1irstcoin</td>\n",
       "    </tr>\n",
       "    <tr>\n",
       "      <td>239</td>\n",
       "      <td>1572354012000</td>\n",
       "      <td>0.827515</td>\n",
       "      <td>1irstcoin</td>\n",
       "    </tr>\n",
       "  </tbody>\n",
       "</table>\n",
       "<p>2187 rows × 3 columns</p>\n",
       "</div>"
      ],
      "text/plain": [
       "         date_time     price  file_name\n",
       "0    1546473600000  0.006419     01coin\n",
       "1    1546560000000  0.006019     01coin\n",
       "2    1546646400000  0.005852     01coin\n",
       "3    1546732800000  0.006123     01coin\n",
       "4    1546819200000  0.005920     01coin\n",
       "..             ...       ...        ...\n",
       "235  1572048000000  0.853054  1irstcoin\n",
       "236  1572134400000  0.877668  1irstcoin\n",
       "237  1572220800000  0.884037  1irstcoin\n",
       "238  1572307200000  0.834614  1irstcoin\n",
       "239  1572354012000  0.827515  1irstcoin\n",
       "\n",
       "[2187 rows x 3 columns]"
      ]
     },
     "execution_count": 29,
     "metadata": {},
     "output_type": "execute_result"
    }
   ],
   "source": [
    "data_list = []\n",
    "\n",
    "for i in data_df:\n",
    "    base = \"http://api.coingecko.com/api/v3/coins/\"\n",
    "    url = base + i + \"/market_chart?vs_currency=usd&days=300\"\n",
    "    result = requests.get(url)\n",
    "    data = result.json()\n",
    "    data_df = pd.DataFrame(data['prices'], columns = ['date_time','price'])\n",
    "    data_df[\"file_name\"] = i\n",
    "    data_list.append(data_df)\n",
    "\n",
    "data_series = pd.concat(data_list)\n",
    "data_series"
   ]
  },
  {
   "cell_type": "code",
   "execution_count": null,
   "metadata": {},
   "outputs": [],
   "source": []
  },
  {
   "cell_type": "code",
   "execution_count": null,
   "metadata": {},
   "outputs": [],
   "source": []
  },
  {
   "cell_type": "code",
   "execution_count": null,
   "metadata": {},
   "outputs": [],
   "source": []
  }
 ],
 "metadata": {
  "kernelspec": {
   "display_name": "Python 3",
   "language": "python",
   "name": "python3"
  },
  "language_info": {
   "codemirror_mode": {
    "name": "ipython",
    "version": 3
   },
   "file_extension": ".py",
   "mimetype": "text/x-python",
   "name": "python",
   "nbconvert_exporter": "python",
   "pygments_lexer": "ipython3",
   "version": "3.7.4"
  }
 },
 "nbformat": 4,
 "nbformat_minor": 2
}
