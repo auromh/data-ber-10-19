{
 "cells": [
  {
   "cell_type": "markdown",
   "metadata": {},
   "source": [
    "# Web Scraping Lab\n",
    "\n",
    "You will find in this notebook some scrapy exercises to practise your scraping skills.\n",
    "\n",
    "**Tips:**\n",
    "\n",
    "- Check the response status code for each request to ensure you have obtained the intended contennt.\n",
    "- Print the response text in each request to understand the kind of info you are getting and its format.\n",
    "- Check for patterns in the response text to extract the data/info requested in each question.\n",
    "- Visit each url and take a look at its source through Chrome DevTools. You'll need to identify the html tags, special class names etc. used for the html content you are expected to extract."
   ]
  },
  {
   "cell_type": "markdown",
   "metadata": {},
   "source": [
    "- [Requests library](http://docs.python-requests.org/en/master/#the-user-guide) documentation \n",
    "- [Beautiful Soup Doc](https://www.crummy.com/software/BeautifulSoup/bs4/doc/)\n",
    "- [Urllib](https://docs.python.org/3/library/urllib.html#module-urllib)\n",
    "- [re lib](https://docs.python.org/3/library/re.html)\n",
    "- [lxml lib](https://lxml.de/)\n",
    "- [Scrapy](https://scrapy.org/)\n",
    "- [List of HTTP status codes](https://en.wikipedia.org/wiki/List_of_HTTP_status_codes)\n",
    "- [HTML basics](http://www.simplehtmlguide.com/cheatsheet.php)\n",
    "- [CSS basics](https://www.cssbasics.com/#page_start)"
   ]
  },
  {
   "cell_type": "markdown",
   "metadata": {},
   "source": [
    "#### Below are the libraries and modules you may need. `requests`,  `BeautifulSoup` and `pandas` are imported for you. If you prefer to use additional libraries feel free to uncomment them."
   ]
  },
  {
   "cell_type": "code",
   "execution_count": 10,
   "metadata": {},
   "outputs": [],
   "source": [
    "import requests\n",
    "from bs4 import BeautifulSoup\n",
    "import pandas as pd\n",
    "# from pprint import pprint\n",
    "# from lxml import html\n",
    "# from lxml.html import fromstring\n",
    "# import urllib.request\n",
    "from urllib.request import urlopen\n",
    "# import random\n",
    "# import re\n",
    "# import scrapy"
   ]
  },
  {
   "cell_type": "markdown",
   "metadata": {},
   "source": [
    "#### Download, parse (using BeautifulSoup), and print the content from the Trending Developers page from GitHub:"
   ]
  },
  {
   "cell_type": "code",
   "execution_count": 2,
   "metadata": {},
   "outputs": [],
   "source": [
    "# This is the url you will scrape in this exercise\n",
    "url = 'https://github.com/trending/developers'"
   ]
  },
  {
   "cell_type": "code",
   "execution_count": 3,
   "metadata": {},
   "outputs": [
    {
     "data": {
      "text/plain": [
       "<Response [200]>"
      ]
     },
     "execution_count": 3,
     "metadata": {},
     "output_type": "execute_result"
    }
   ],
   "source": [
    "#your code\n",
    "response=requests.get(url)\n",
    "response"
   ]
  },
  {
   "cell_type": "markdown",
   "metadata": {},
   "source": [
    "#### Display the names of the trending developers retrieved in the previous step.\n",
    "\n",
    "Your output should be a Python list of developer names. Each name should not contain any html tag.\n",
    "\n",
    "**Instructions:**\n",
    "\n",
    "1. Find out the html tag and class names used for the developer names. You can achieve this using Chrome DevTools.\n",
    "\n",
    "1. Use BeautifulSoup to extract all the html elements that contain the developer names.\n",
    "\n",
    "1. Use string manipulation techniques to replace whitespaces and linebreaks (i.e. `\\n`) in the *text* of each html element. Use a list to store the clean names.\n",
    "\n",
    "1. Print the list of names.\n",
    "\n",
    "Your output should look like below:\n",
    "\n",
    "```\n",
    "['trimstray (@trimstray)',\n",
    " 'joewalnes (JoeWalnes)',\n",
    " 'charlax (Charles-AxelDein)',\n",
    " 'ForrestKnight (ForrestKnight)',\n",
    " 'revery-ui (revery-ui)',\n",
    " 'alibaba (Alibaba)',\n",
    " 'Microsoft (Microsoft)',\n",
    " 'github (GitHub)',\n",
    " 'facebook (Facebook)',\n",
    " 'boazsegev (Bo)',\n",
    " 'google (Google)',\n",
    " 'cloudfetch',\n",
    " 'sindresorhus (SindreSorhus)',\n",
    " 'tensorflow',\n",
    " 'apache (TheApacheSoftwareFoundation)',\n",
    " 'DevonCrawford (DevonCrawford)',\n",
    " 'ARMmbed (ArmMbed)',\n",
    " 'vuejs (vuejs)',\n",
    " 'fastai (fast.ai)',\n",
    " 'QiShaoXuan (Qi)',\n",
    " 'joelparkerhenderson (JoelParkerHenderson)',\n",
    " 'torvalds (LinusTorvalds)',\n",
    " 'CyC2018',\n",
    " 'komeiji-satori (神楽坂覚々)',\n",
    " 'script-8']\n",
    " ```"
   ]
  },
  {
   "cell_type": "code",
   "execution_count": 154,
   "metadata": {
    "scrolled": false
   },
   "outputs": [
    {
     "data": {
      "text/plain": [
       "['Milos Kozak (MilosKozak)',\n",
       " 'Aleksey Kladov (matklad)',\n",
       " 'Michiel Borkent (borkdude)',\n",
       " 'atomiks ()',\n",
       " 'Mr.doob (mrdoob)',\n",
       " 'Gleb Bahmutov (bahmutov)',\n",
       " 'Mathias Bynens (mathiasbynens)',\n",
       " 'Francois Zaninotto (fzaninotto)',\n",
       " 'Jeremy Thomas (jgthms)',\n",
       " 'Sebastián Ramírez (tiangolo)',\n",
       " 'Michał Osadnik (osdnk)',\n",
       " 'Geoff Bourne (itzg)',\n",
       " 'Zoran Pandovski (ZoranPandovski)',\n",
       " 'Ran Luo (Jocs)',\n",
       " 'Louis Pilfold (lpil)',\n",
       " 'Juan Picado @jotadeveloper (juanpicado)',\n",
       " 'John Wiegley (jwiegley)',\n",
       " 'Matthew Phillips (matthewp)',\n",
       " 'Alexey Golub (Tyrrrz)',\n",
       " 'Liran Tal (lirantal)',\n",
       " 'Andrei Neagoie (aneagoie)',\n",
       " 'Tomoki Hayashi (kan-bayashi)',\n",
       " 'Simon Ser (emersion)',\n",
       " 'Jared Palmer (jaredpalmer)',\n",
       " 'David Peter (sharkdp)']"
      ]
     },
     "execution_count": 154,
     "metadata": {},
     "output_type": "execute_result"
    }
   ],
   "source": [
    "#your code\n",
    "soup=BeautifulSoup(response.content,\"html.parser\")\n",
    "#print(soup)\n",
    "list_people=(soup\n",
    "       .find(\"div\",class_=\"explore-pjax-container container-lg p-responsive pt-6\")\n",
    "       .find(\"div\",class_=\"Box\")\n",
    "       .find_all(\"div\",class_=\"col-md-6\")\n",
    "       #.find_all(\"h1\",class_=\"h3 lh-condensed\")\n",
    "  )\n",
    "people=[list_people[x].h1.a.contents[0].strip() for x in range(len(list_people)) if list_people[x].h1.a.contents[0].strip() not in \"\"]\n",
    "nickname=[]\n",
    "\n",
    "for x in range(len(list_people)):\n",
    "    if (x%2==0 or x==0):\n",
    "        try:\n",
    "            nickname.append(list_people[x].p.a.contents[0].strip())\n",
    "        except:\n",
    "            nickname.append(\"\")\n",
    "#[list_people[x].p.a.contents[0].strip() for x in range(len(list_people)) if (x%2==0 or x==0)]\n",
    "\n",
    "final_list=[people[x]+\" \"+\"(\"+nickname[x]+\")\" for x in range(len(people))]\n",
    "final_list"
   ]
  },
  {
   "cell_type": "code",
   "execution_count": null,
   "metadata": {},
   "outputs": [],
   "source": []
  },
  {
   "cell_type": "markdown",
   "metadata": {},
   "source": [
    "#### Display the trending Python repositories in GitHub\n",
    "\n",
    "The steps to solve this problem is similar to the previous one except that you need to find out the repository names instead of developer names."
   ]
  },
  {
   "cell_type": "code",
   "execution_count": 147,
   "metadata": {},
   "outputs": [
    {
     "data": {
      "text/plain": [
       "<Response [200]>"
      ]
     },
     "execution_count": 147,
     "metadata": {},
     "output_type": "execute_result"
    }
   ],
   "source": [
    "# This is the url you will scrape in this exercise\n",
    "url2 = 'https://github.com/trending/python?since=daily'\n",
    "response2=requests.get(url2)\n",
    "response2"
   ]
  },
  {
   "cell_type": "code",
   "execution_count": 174,
   "metadata": {
    "scrolled": true
   },
   "outputs": [
    {
     "data": {
      "text/plain": [
       "['google-research',\n",
       " 'eriklindernoren',\n",
       " 'geekcomputers',\n",
       " 'ytdl-org',\n",
       " 'seungwonpark',\n",
       " 'mnielsen',\n",
       " 'napari',\n",
       " 'deepfakes',\n",
       " 'RaRe-Technologies',\n",
       " 'karfly',\n",
       " 'pi-hole',\n",
       " 'killgcd',\n",
       " 'dbolya',\n",
       " 'google-research',\n",
       " 'rodartha',\n",
       " 'swisskyrepo',\n",
       " 'evilsocket',\n",
       " 'apachecn',\n",
       " 'yoshiko2',\n",
       " 'pirate',\n",
       " 'CoreyMSchafer',\n",
       " 'timgrossmann',\n",
       " 'instaloader',\n",
       " 'bitcoinbook',\n",
       " 'kovidgoyal']"
      ]
     },
     "execution_count": 174,
     "metadata": {},
     "output_type": "execute_result"
    }
   ],
   "source": [
    "#your code\n",
    "soup2=BeautifulSoup(response2.content,\"html.parser\")\n",
    "\n",
    "list_repos=(soup2\n",
    "            .find(\"div\",class_=\"explore-pjax-container container-lg p-responsive pt-6\")\n",
    "            .find(\"div\",class_=\"Box\")\n",
    "            .find_all(\"article\",class_=\"Box-row\")\n",
    "           )#.find_all(\"div\",class_=\"mt-2 mb-3 my-md-0\"))#\n",
    "            #.find_all(\"h1\",class_=\"h4 lh-condensed\"))\n",
    "repos=[list_repos[x].h1.a.span.contents[0].replace(\"/\",\"\").strip() for x in range(len(list_repos))]\n",
    "#print(list_repos)\n",
    "repos"
   ]
  },
  {
   "cell_type": "markdown",
   "metadata": {},
   "source": [
    "#### Display all the image links from Walt Disney wikipedia page"
   ]
  },
  {
   "cell_type": "code",
   "execution_count": 3,
   "metadata": {},
   "outputs": [
    {
     "data": {
      "text/plain": [
       "<Response [200]>"
      ]
     },
     "execution_count": 3,
     "metadata": {},
     "output_type": "execute_result"
    }
   ],
   "source": [
    "# This is the url you will scrape in this exercise\n",
    "url3 = 'https://en.wikipedia.org/wiki/Walt_Disney'\n",
    "response3=requests.get(url3)\n",
    "response3"
   ]
  },
  {
   "cell_type": "code",
   "execution_count": 4,
   "metadata": {},
   "outputs": [
    {
     "data": {
      "text/plain": [
       "'https://en.wikipedia.org/wiki/File:Walt_Disney_1946.JPG'"
      ]
     },
     "execution_count": 4,
     "metadata": {},
     "output_type": "execute_result"
    }
   ],
   "source": [
    "#your code\n",
    "soup3=BeautifulSoup(response3.content,\"html.parser\")\n",
    "image=(soup3\n",
    "            .find_all(\"a\",class_=\"image\")\n",
    "           )\n",
    "\n",
    "link=str(image).split(\" \")\n",
    "link_final=\"https://en.wikipedia.org\" + [x for x in link if x.startswith(\"href\")][0].split('\"')[1]\n",
    "link_final\n",
    "#.startswith(\"href\")]"
   ]
  },
  {
   "cell_type": "markdown",
   "metadata": {},
   "source": [
    "#### Retrieve an arbitary Wikipedia page of \"Python\" and create a list of links on that page"
   ]
  },
  {
   "cell_type": "code",
   "execution_count": 6,
   "metadata": {},
   "outputs": [
    {
     "data": {
      "text/plain": [
       "<Response [200]>"
      ]
     },
     "execution_count": 6,
     "metadata": {},
     "output_type": "execute_result"
    }
   ],
   "source": [
    "# This is the url you will scrape in this exercise\n",
    "url4 ='https://en.wikipedia.org/wiki/Python' \n",
    "response4=requests.get(url4)\n",
    "response4"
   ]
  },
  {
   "cell_type": "code",
   "execution_count": 7,
   "metadata": {},
   "outputs": [
    {
     "data": {
      "text/plain": [
       "'https://en.wikipedia.org/wiki/Python_(missile)'"
      ]
     },
     "execution_count": 7,
     "metadata": {},
     "output_type": "execute_result"
    }
   ],
   "source": [
    "#your code\n",
    "import random\n",
    "soup4=BeautifulSoup(response4.content,\"html.parser\")\n",
    "\n",
    "links=(soup4\n",
    "       .find(\"div\",id=\"content\")\n",
    "       .find(\"div\",id=\"mw-content-text\")\n",
    "       .find(\"div\",class_=\"mw-parser-output\")\n",
    "       .find_all(\"li\"))[11:]\n",
    "\n",
    "\n",
    "#links_random=\"https://en.wikipedia.org\" + [links[x].li.a. for x in link if x.startswith(\"href\")][0].split('\"')[1]\n",
    "links_random=[]\n",
    "for x in range(len(links)):\n",
    "    r1=str(links[x].a).split(\" \")\n",
    "    r2=[x for x in r1 if x.startswith(\"href\")][0].split('\"')[1]\n",
    "    links_random.append(r2)\n",
    "\n",
    "random_choice=random.sample(range(len(links_random)),1)[0]\n",
    "new_url=\"https://en.wikipedia.org\"+links_random[random_choice]\n",
    "new_url"
   ]
  },
  {
   "cell_type": "code",
   "execution_count": 14,
   "metadata": {},
   "outputs": [
    {
     "name": "stdout",
     "output_type": "stream",
     "text": [
      "['<a', 'href=\"/wiki/Air-to-air_missile\"', 'title=\"Air-to-air', 'missile\">air-to-air', 'missiles</a>']\n",
      "/wiki/Air-to-air_missile\n",
      "['<a', 'href=\"/wiki/Israeli_Air_Force\"', 'title=\"Israeli', 'Air', 'Force\">Israeli', 'Air', 'Force</a>']\n",
      "/wiki/Israeli_Air_Force\n",
      "['<a', 'href=\"/wiki/All-aspect\"', 'title=\"All-aspect\">all-aspect</a>']\n",
      "/wiki/All-aspect\n",
      "['<a', 'href=\"/wiki/Fire-and-forget\"', 'title=\"Fire-and-forget\">fire-and-forget</a>']\n",
      "/wiki/Fire-and-forget\n",
      "['<a', 'href=\"/wiki/Gun_harmonisation\"', 'title=\"Gun', 'harmonisation\">boresight</a>']\n",
      "/wiki/Gun_harmonisation\n",
      "['None']\n"
     ]
    },
    {
     "ename": "IndexError",
     "evalue": "list index out of range",
     "output_type": "error",
     "traceback": [
      "\u001b[0;31m---------------------------------------------------------------------------\u001b[0m",
      "\u001b[0;31mIndexError\u001b[0m                                Traceback (most recent call last)",
      "\u001b[0;32m<ipython-input-14-ef6e9e908a86>\u001b[0m in \u001b[0;36m<module>\u001b[0;34m\u001b[0m\n\u001b[1;32m     11\u001b[0m     \u001b[0mr1\u001b[0m\u001b[0;34m=\u001b[0m\u001b[0mstr\u001b[0m\u001b[0;34m(\u001b[0m\u001b[0mnew_links\u001b[0m\u001b[0;34m[\u001b[0m\u001b[0mx\u001b[0m\u001b[0;34m]\u001b[0m\u001b[0;34m.\u001b[0m\u001b[0ma\u001b[0m\u001b[0;34m)\u001b[0m\u001b[0;34m.\u001b[0m\u001b[0mreplace\u001b[0m\u001b[0;34m(\u001b[0m\u001b[0;34m\"(\"\u001b[0m\u001b[0;34m,\u001b[0m\u001b[0;34m\"\"\u001b[0m\u001b[0;34m)\u001b[0m\u001b[0;34m.\u001b[0m\u001b[0msplit\u001b[0m\u001b[0;34m(\u001b[0m\u001b[0;34m\" \"\u001b[0m\u001b[0;34m)\u001b[0m\u001b[0;34m\u001b[0m\u001b[0;34m\u001b[0m\u001b[0m\n\u001b[1;32m     12\u001b[0m     \u001b[0mprint\u001b[0m\u001b[0;34m(\u001b[0m\u001b[0mr1\u001b[0m\u001b[0;34m)\u001b[0m\u001b[0;34m\u001b[0m\u001b[0;34m\u001b[0m\u001b[0m\n\u001b[0;32m---> 13\u001b[0;31m     \u001b[0mr2\u001b[0m\u001b[0;34m=\u001b[0m\u001b[0;34m[\u001b[0m\u001b[0my\u001b[0m \u001b[0;32mfor\u001b[0m \u001b[0my\u001b[0m \u001b[0;32min\u001b[0m \u001b[0mr1\u001b[0m \u001b[0;32mif\u001b[0m \u001b[0my\u001b[0m\u001b[0;34m.\u001b[0m\u001b[0mstartswith\u001b[0m\u001b[0;34m(\u001b[0m\u001b[0;34m\"href\"\u001b[0m\u001b[0;34m)\u001b[0m\u001b[0;34m]\u001b[0m\u001b[0;34m[\u001b[0m\u001b[0;36m0\u001b[0m\u001b[0;34m]\u001b[0m\u001b[0;34m.\u001b[0m\u001b[0msplit\u001b[0m\u001b[0;34m(\u001b[0m\u001b[0;34m'\"'\u001b[0m\u001b[0;34m)\u001b[0m\u001b[0;34m[\u001b[0m\u001b[0;36m1\u001b[0m\u001b[0;34m]\u001b[0m\u001b[0;34m\u001b[0m\u001b[0;34m\u001b[0m\u001b[0m\n\u001b[0m\u001b[1;32m     14\u001b[0m     \u001b[0mprint\u001b[0m\u001b[0;34m(\u001b[0m\u001b[0mr2\u001b[0m\u001b[0;34m)\u001b[0m\u001b[0;34m\u001b[0m\u001b[0;34m\u001b[0m\u001b[0m\n\u001b[1;32m     15\u001b[0m     \u001b[0;31m#[1].split('\"')[0]\u001b[0m\u001b[0;34m\u001b[0m\u001b[0;34m\u001b[0m\u001b[0;34m\u001b[0m\u001b[0m\n",
      "\u001b[0;31mIndexError\u001b[0m: list index out of range"
     ]
    }
   ],
   "source": [
    "\n",
    "new_links=(new_soup\n",
    "       .find(\"div\",id=\"content\")\n",
    "       .find(\"div\",id=\"mw-content-text\")\n",
    "       .find(\"div\",class_=\"mw-parser-output\")\n",
    "       .find_all(\"p\"))\n",
    "links_random2=[]\n",
    "\n",
    "for x in range(len(new_links)):\n",
    "    r1=str(new_links[x].a).replace(\"(\",\"\").split(\" \")\n",
    "    print(r1)\n",
    "    r2=[y for y in r1 if y.startswith(\"href\")][0].split('\"')[1]\n",
    "    print(r2)\n",
    "    #[1].split('\"')[0]\n",
    "    links_random2.append(r2)\n",
    "links_random2"
   ]
  },
  {
   "cell_type": "code",
   "execution_count": 17,
   "metadata": {},
   "outputs": [
    {
     "name": "stdout",
     "output_type": "stream",
     "text": [
      "#mw-head\n",
      "#p-search\n",
      "/wiki/File:Python5-missile001.jpg\n",
      "#Operators\n",
      "/wiki/Rafael_Advanced_Defense_Systems\n",
      "/wiki/Kilogram\n",
      "/wiki/Pound_(mass)\n",
      "/wiki/Ounce\n",
      "/wiki/Metre\n",
      "/wiki/Foot_(unit)\n",
      "/wiki/Millimetre\n",
      "/wiki/Inch\n",
      "/wiki/Kilometre\n",
      "/wiki/Mile\n",
      "/wiki/Infrared_homing\n",
      "/w/index.php?title=Counter-counter-measures&action=edit&redlink=1\n",
      "/wiki/CASA_C-101\n",
      "/wiki/List_of_McDonnell_Douglas_F-4_Phantom_II_variants\n",
      "/wiki/Northrop_F-5#Upgrades\n",
      "/wiki/McDonnell_Douglas_F-15_Eagle\n",
      "/wiki/General_Dynamics_F-16_Fighting_Falcon\n",
      "#cite_note-f-16.net-1\n",
      "/wiki/Dassault_Mirage_III\n",
      "/wiki/Dassault_Mirage_5\n",
      "/wiki/Dassault_Mirage_2000\n",
      "/wiki/IAI_Nesher\n",
      "/wiki/IAI_Kfir\n",
      "/wiki/British_Aerospace_Sea_Harrier\n",
      "/wiki/HAL_Tejas\n",
      "/wiki/SAAB_Gripen_NG\n",
      "#cite_note-saaabgroup.com-2\n",
      "/wiki/Sukhoi_Su-30MKI\n",
      "/wiki/Wikipedia:Citation_needed\n",
      "/wiki/Sukhoi_Su-25#Su-25KM\n",
      "#cite_note-3\n",
      "/wiki/Air-to-air_missile\n",
      "/wiki/Rafael_Advanced_Defense_Systems\n",
      "/wiki/Hebrew_language\n",
      "/wiki/Dragonfly\n",
      "/wiki/Inflection\n",
      "/wiki/Damselfly\n",
      "/wiki/SPYDER\n",
      "#Design_and_development\n",
      "#Variants\n",
      "#Shafrir-1\n",
      "#Shafrir-2\n",
      "#Python-3\n",
      "#Python-4\n",
      "#Python-5\n",
      "#Other_Python_developments\n",
      "#Derby\n",
      "#I-Derby_ER\n",
      "#SPYDER\n",
      "#Operators\n",
      "#Current_operators\n",
      "#See_also\n",
      "#References\n",
      "#External_links\n",
      "/w/index.php?title=Python_(missile)&action=edit&section=1\n",
      "/wiki/File:PythonGenerHe.png\n",
      "/wiki/File:PythonGenerHe.png\n",
      "/wiki/Israeli_Air_Force\n",
      "/wiki/Hebrew_language\n",
      "/wiki/Dragonfly\n",
      "/wiki/Inflection\n",
      "/wiki/Damselfly\n",
      "/wiki/Dassault_Mirage_III\n",
      "/wiki/Six-Day_War\n",
      "/wiki/Yom_Kippur_War\n",
      "#cite_note-python2-4\n",
      "/wiki/South_America\n",
      "/wiki/All-aspect\n",
      "/wiki/1982_Lebanon_War\n",
      "/wiki/China\n",
      "/wiki/PL-8_(missile)\n",
      "#cite_note-SINOD-5\n",
      "/wiki/Fire-and-forget\n",
      "#cite_note-python4-6\n",
      "#cite_note-python5-7\n",
      "/wiki/Paris_Air_Show\n",
      "/wiki/F-15I\n",
      "/wiki/F-16C/D_Fighting_Falcon\n",
      "/wiki/Gun_harmonisation\n",
      "/w/index.php?title=Python_(missile)&action=edit&section=2\n",
      "/w/index.php?title=Python_(missile)&action=edit&section=3\n",
      "#cite_note-8\n",
      "/w/index.php?title=Python_(missile)&action=edit&section=4\n",
      "#cite_note-python2-4\n",
      "/w/index.php?title=Python_(missile)&action=edit&section=5\n",
      "/wiki/File:Rafael_Python_3_3.jpg\n",
      "/wiki/File:Rafael_Python_3_3.jpg\n",
      "#cite_note-python5-7\n",
      "/wiki/People%27s_Liberation_Army_Air_Force\n",
      "/wiki/PL-8_(missile)\n",
      "#cite_note-SINOD-5\n",
      "/wiki/Xi%27an\n",
      "#cite_note-SINOD-5\n",
      "/w/index.php?title=Python_(missile)&action=edit&section=6\n",
      "/wiki/File:Rafael_Python_4.jpg\n",
      "/wiki/File:Rafael_Python_4.jpg\n",
      "#cite_note-python4-6\n",
      "/wiki/Elbit_Systems\n",
      "/wiki/Helmet_mounted_display#Display_And_Sight_Helmet_(DASH)\n",
      "/wiki/FIM-92_Stinger\n",
      "/wiki/Infrared_homing\n",
      "/w/index.php?title=IRCCM&action=edit&redlink=1\n",
      "#cite_note-9\n",
      "/w/index.php?title=Active_laser&action=edit&redlink=1\n",
      "/w/index.php?title=Python_(missile)&action=edit&section=7\n",
      "/wiki/File:Python5_missile.jpg\n",
      "/wiki/File:Python5_missile.jpg\n",
      "#cite_note-10\n",
      "/wiki/Air-to-air_missile\n",
      "/wiki/Beyond-visual-range_missile\n",
      "/wiki/Electro-optical\n",
      "/wiki/Infrared_homing\n",
      "/wiki/Thrust_vectoring\n",
      "#cite_note-python5-7\n",
      "/wiki/2006_Lebanon_War\n",
      "/wiki/Ghods_Ababil\n",
      "/wiki/Hezbollah\n",
      "#cite_note-f-16.net-1\n",
      "/w/index.php?title=Python_(missile)&action=edit&section=8\n",
      "/w/index.php?title=Python_(missile)&action=edit&section=9\n",
      "/wiki/File:Derby_missile.jpg\n",
      "/wiki/File:Derby_missile.jpg\n",
      "/wiki/Beyond-visual-range_missile\n",
      "/wiki/Active_radar_homing\n",
      "#cite_note-11\n",
      "/w/index.php?title=Python_(missile)&action=edit&section=10\n",
      "/wiki/David%27s_Sling\n",
      "#cite_note-12\n",
      "/wiki/R-77\n",
      "/wiki/HAL_Tejas\n",
      "#cite_note-13\n",
      "/w/index.php?title=Python_(missile)&action=edit&section=11\n",
      "/wiki/File:SPYDER.jpg\n",
      "/wiki/File:SPYDER.jpg\n",
      "/wiki/SPYDER\n",
      "/w/index.php?title=Python_(missile)&action=edit&section=12\n",
      "/wiki/File:Python_operators.png\n",
      "/wiki/File:Python_operators.png\n",
      "/wiki/File:KampfflugzeugF-8China.jpg\n",
      "/wiki/File:KampfflugzeugF-8China.jpg\n",
      "/wiki/Shenyang_J-8\n",
      "/w/index.php?title=Python_(missile)&action=edit&section=13\n",
      "/wiki/Argentina\n",
      "#cite_note-SIPRI-14\n",
      "#cite_note-15\n",
      "/wiki/Wikipedia:Please_clarify\n",
      "/wiki/Bolivia\n",
      "#cite_note-16\n",
      "/wiki/Brazil\n",
      "#cite_note-SIPRI-14\n",
      "/wiki/Chile\n",
      "#cite_note-SIPRI-14\n",
      "/wiki/China\n",
      "/wiki/PL-8_(missile)\n",
      "#cite_note-SINOD-5\n",
      "#cite_note-SIPRI-14\n",
      "/wiki/Colombia\n",
      "#cite_note-SIPRI-14\n",
      "/wiki/Ecuador\n",
      "#cite_note-SIPRI-14\n",
      "/wiki/El_Salvador\n",
      "#cite_note-17\n",
      "/wiki/Wikipedia:Please_clarify\n",
      "/wiki/Georgia_(country)\n",
      "#cite_note-18\n",
      "/wiki/Honduras\n",
      "#cite_note-SIPRI-14\n",
      "/wiki/India\n",
      "#cite_note-SIPRI-14\n",
      "/wiki/Israel\n",
      "/wiki/Romania\n",
      "#cite_note-19\n",
      "/wiki/Singapore\n",
      "#cite_note-SIPRI-14\n",
      "/wiki/South_Africa\n",
      "#cite_note-20\n",
      "/wiki/Taiwan\n",
      "#cite_note-SIPRI-14\n",
      "/wiki/Thailand\n",
      "#cite_note-SIPRI-14\n",
      "/wiki/Venezuela\n",
      "#cite_note-SIPRI-14\n",
      "/w/index.php?title=Python_(missile)&action=edit&section=14\n",
      "/wiki/List_of_munitions_used_by_the_Israeli_Air_Force\n",
      "/wiki/AIM-9_Sidewinder\n",
      "/wiki/IRIS-T\n",
      "/wiki/ASRAAM\n",
      "/wiki/R-73_(missile)\n",
      "/wiki/Astra_(missile)\n",
      "/w/index.php?title=Python_(missile)&action=edit&section=15\n",
      "#cite_ref-f-16.net_1-0\n",
      "#cite_ref-f-16.net_1-1\n",
      "http://www.f-16.net/aircraft-database/F-16/airframe-profile/2482/\n",
      "#cite_ref-saaabgroup.com_2-0\n",
      "http://www.saabgroup.com/Air/Gripen-Fighter-System/Gripen-Para-o-Brasil/O-Caca-Gripen-NG/\n",
      "https://web.archive.org/web/20130331001718/http://www.saabgroup.com/Air/Gripen-Fighter-System/Gripen-Para-o-Brasil/O-Caca-Gripen-NG/\n",
      "/wiki/Wayback_Machine\n",
      "#cite_ref-3\n",
      "http://geo-army.ge/index.php?option=com_content&view=article&id=39&Itemid=9&lang=en\n",
      "#cite_ref-python2_4-0\n",
      "#cite_ref-python2_4-1\n",
      "http://www.israeli-weapons.com/weapons/missile_systems/air_missiles/python/Python2.html\n",
      "https://web.archive.org/web/20080914040916/http://www.israeli-weapons.com/weapons/missile_systems/air_missiles/python/Python2.html\n",
      "/wiki/Wayback_Machine\n",
      "#cite_ref-SINOD_5-0\n",
      "#cite_ref-SINOD_5-1\n",
      "#cite_ref-SINOD_5-2\n",
      "#cite_ref-SINOD_5-3\n",
      "https://web.archive.org/web/20120123130704/http://www.sinodefence.com/airforce/weapon/pl8.asp\n",
      "http://www.sinodefence.com/airforce/weapon/pl8.asp\n",
      "#cite_ref-python4_6-0\n",
      "#cite_ref-python4_6-1\n",
      "http://www.israeli-weapons.com/weapons/missile_systems/air_missiles/python/Python4.html\n",
      "https://web.archive.org/web/20060721190258/http://www.israeli-weapons.com/weapons/missile_systems/air_missiles/python/Python4.html\n",
      "/wiki/Wayback_Machine\n",
      "#cite_ref-python5_7-0\n",
      "#cite_ref-python5_7-1\n",
      "#cite_ref-python5_7-2\n",
      "http://www.israeli-weapons.com/weapons/missile_systems/air_missiles/python/Python5.html\n",
      "https://web.archive.org/web/20060715230748/http://www.israeli-weapons.com/weapons/missile_systems/air_missiles/python/Python5.html\n",
      "/wiki/Wayback_Machine\n",
      "#cite_ref-8\n",
      "http://www.israeli-weapons.com/weapons/missile_systems/air_missiles/python/Python1.html\n",
      "https://web.archive.org/web/20080922153739/http://www.israeli-weapons.com/weapons/missile_systems/air_missiles/python/Python1.html\n",
      "/wiki/Wayback_Machine\n",
      "#cite_ref-9\n",
      "http://www.sci.fi/~fta/python4.html\n",
      "https://web.archive.org/web/20060925143819/http://www.sci.fi/~fta/python4.html\n",
      "/wiki/Wayback_Machine\n",
      "#cite_ref-10\n",
      "http://www.rafael.co.il/marketing/SIP_STORAGE/FILES/9/1189.pdf\n",
      "#cite_ref-11\n",
      "http://www.israeli-weapons.com/weapons/missile_systems/air_missiles/derby/Derby.html\n",
      "https://web.archive.org/web/20060718065607/http://www.israeli-weapons.com/weapons/missile_systems/air_missiles/derby/Derby.html\n",
      "/wiki/Wayback_Machine\n",
      "#cite_ref-12\n",
      "https://www.flightglobal.com/news/articles/israel-long-range-fashion-catches-on-in-iaf-421153/\n",
      "#cite_ref-13\n",
      "https://www.janes.com/article/88867/iaf-plans-to-arm-its-su-30mki-fleet-with-i-derby-er-bvraams\n",
      "#cite_ref-SIPRI_14-0\n",
      "#cite_ref-SIPRI_14-1\n",
      "#cite_ref-SIPRI_14-2\n",
      "#cite_ref-SIPRI_14-3\n",
      "#cite_ref-SIPRI_14-4\n",
      "#cite_ref-SIPRI_14-5\n",
      "#cite_ref-SIPRI_14-6\n",
      "#cite_ref-SIPRI_14-7\n",
      "#cite_ref-SIPRI_14-8\n",
      "#cite_ref-SIPRI_14-9\n",
      "#cite_ref-SIPRI_14-10\n",
      "#cite_ref-SIPRI_14-11\n",
      "http://armstrade.sipri.org/armstrade/page/trade_register.php\n",
      "/wiki/Stockholm_International_Peace_Research_Institute\n",
      "/wiki/Help:CS1_errors#bad_date\n",
      "#cite_ref-15\n",
      "/wiki/International_Institute_for_Strategic_Studies\n",
      "/wiki/Taylor_and_Francis\n",
      "/wiki/International_Standard_Book_Number\n",
      "/wiki/Special:BookSources/9781857435573\n",
      "#cite_ref-16\n",
      "/wiki/International_Institute_for_Strategic_Studies\n",
      "/wiki/Taylor_and_Francis\n",
      "/wiki/International_Standard_Book_Number\n",
      "/wiki/Special:BookSources/9781857435573\n",
      "#cite_ref-17\n",
      "/wiki/International_Institute_for_Strategic_Studies\n",
      "/wiki/Taylor_and_Francis\n",
      "/wiki/International_Standard_Book_Number\n",
      "/wiki/Special:BookSources/9781857435573\n",
      "#cite_ref-18\n",
      "http://armstrade.sipri.org/armstrade/page/trade_register.php\n",
      "#cite_ref-19\n",
      "/wiki/International_Institute_for_Strategic_Studies\n",
      "/wiki/Taylor_and_Francis\n",
      "/wiki/International_Standard_Book_Number\n",
      "/wiki/Special:BookSources/9781857435573\n",
      "#cite_ref-20\n",
      "http://www.saairforce.co.za/the-airforce/weapons/68/v3s-snake-rafael-python-3\n",
      "/wiki/South_African_Air_Force\n",
      "/w/index.php?title=Python_(missile)&action=edit&section=16\n",
      "https://commons.wikimedia.org/wiki/Category:Python_missiles\n",
      "http://www.rafael.co.il/marketing/SIP_STORAGE/FILES/1/921.pdf\n",
      "http://www.rafael.co.il/marketing/SIP_STORAGE/FILES/0/950.pdf\n",
      "http://www.globalsecurity.org/military/world/israel/shafrir.htm\n",
      "http://www.globalsecurity.org/military/world/israel/python3.htm\n",
      "http://www.globalsecurity.org/military/world/israel/alto.htm\n",
      "/wiki/Federation_of_American_Scientists\n",
      "https://fas.org/man/dod-101/sys/missile/row/python3.htm\n",
      "https://fas.org/man/dod-101/sys/missile/row/python4.htm\n",
      "https://fas.org/man/dod-101/sys/missile/row/alto.htm\n",
      "http://www.ausairpower.net/TE-Gen-4-AAM-97.html\n",
      "/wiki/Template:Rafael_Advanced_Defense_Systems\n",
      "/wiki/Template_talk:Rafael_Advanced_Defense_Systems\n",
      "https://en.wikipedia.org/w/index.php?title=Template:Rafael_Advanced_Defense_Systems&action=edit\n",
      "/wiki/Rafael_Advanced_Defense_Systems\n",
      "/wiki/Barak_1\n",
      "/wiki/Python_(missile)#Derby\n",
      "/wiki/Luz_(missile)\n",
      "/wiki/MATADOR_(weapon)\n",
      "/wiki/Popeye_(missile)\n",
      "/wiki/Python_(missile)#Shafrir-1\n",
      "/wiki/SIMON_breach_grenade\n",
      "/wiki/Spike_(missile)\n",
      "/wiki/Sparrow_(target_missile)\n",
      "/wiki/File:RAFAEL_logo.png\n",
      "/wiki/Rafael_Overhead_Weapon_Station\n",
      "/wiki/Samson_Remote_Controlled_Weapon_Station\n",
      "/wiki/Typhoon_Weapon_Station\n",
      "/wiki/Barak_1\n",
      "/wiki/David%27s_Sling\n",
      "/wiki/Iron_Beam\n",
      "/wiki/Iron_Dome\n",
      "/wiki/SPYDER\n",
      "/wiki/Drone_Dome\n",
      "/wiki/Golan_Armored_Vehicle\n",
      "/wiki/Protector_USV\n",
      "/wiki/Wolf_Armoured_Vehicle\n",
      "/wiki/Litening\n",
      "/wiki/Spice_(bomb)\n",
      "/wiki/Trophy_(countermeasure)\n",
      "/wiki/Sky_Shield\n",
      "/wiki/Israel_Aerospace_Industries\n",
      "/wiki/Defence_Science_and_Technology_Agency\n",
      "/wiki/Raytheon\n",
      "/wiki/Hatehof\n",
      "/wiki/Northrop_Grumman\n",
      "https://en.wikipedia.org/w/index.php?title=Python_(missile)&oldid=917619923\n",
      "/wiki/Help:Category\n",
      "/wiki/Category:Air-to-air_missiles_of_Israel\n",
      "/wiki/Category:Rafael_Advanced_Defense_Systems\n",
      "/wiki/Category:Israeli_inventions\n",
      "/wiki/Category:Webarchive_template_wayback_links\n",
      "/wiki/Category:CS1_errors:_dates\n",
      "/wiki/Category:All_articles_with_unsourced_statements\n",
      "/wiki/Category:Articles_with_unsourced_statements_from_October_2009\n",
      "/wiki/Category:Articles_containing_Hebrew-language_text\n",
      "/wiki/Category:Wikipedia_articles_needing_clarification_from_March_2012\n",
      "/wiki/Category:Commons_category_link_is_on_Wikidata\n",
      "/wiki/Special:MyTalk\n",
      "/wiki/Special:MyContributions\n",
      "/w/index.php?title=Special:CreateAccount&returnto=Python+%28missile%29\n",
      "/w/index.php?title=Special:UserLogin&returnto=Python+%28missile%29\n",
      "/wiki/Python_(missile)\n",
      "/wiki/Talk:Python_(missile)\n",
      "/wiki/Python_(missile)\n",
      "/w/index.php?title=Python_(missile)&action=edit\n",
      "/w/index.php?title=Python_(missile)&action=history\n",
      "/wiki/Main_Page\n",
      "/wiki/Main_Page\n",
      "/wiki/Portal:Contents\n",
      "/wiki/Portal:Featured_content\n",
      "/wiki/Portal:Current_events\n",
      "/wiki/Special:Random\n",
      "https://donate.wikimedia.org/wiki/Special:FundraiserRedirector?utm_source=donate&utm_medium=sidebar&utm_campaign=C13_en.wikipedia.org&uselang=en\n",
      "//shop.wikimedia.org\n",
      "/wiki/Help:Contents\n",
      "/wiki/Wikipedia:About\n",
      "/wiki/Wikipedia:Community_portal\n",
      "/wiki/Special:RecentChanges\n",
      "//en.wikipedia.org/wiki/Wikipedia:Contact_us\n",
      "/wiki/Special:WhatLinksHere/Python_(missile)\n",
      "/wiki/Special:RecentChangesLinked/Python_(missile)\n",
      "/wiki/Wikipedia:File_Upload_Wizard\n",
      "/wiki/Special:SpecialPages\n",
      "/w/index.php?title=Python_(missile)&oldid=917619923\n",
      "/w/index.php?title=Python_(missile)&action=info\n",
      "https://www.wikidata.org/wiki/Special:EntityPage/Q15728\n",
      "/w/index.php?title=Special:CiteThisPage&page=Python_%28missile%29&id=917619923\n",
      "https://commons.wikimedia.org/wiki/Category:Python_missiles\n",
      "/w/index.php?title=Special:Book&bookcmd=book_creator&referer=Python+%28missile%29\n",
      "/w/index.php?title=Special:ElectronPdf&page=Python+%28missile%29&action=show-download-screen\n",
      "/w/index.php?title=Python_(missile)&printable=yes\n",
      "https://ar.wikipedia.org/wiki/%D8%A8%D9%8A%D8%AA%D9%88%D9%86_(%D8%B5%D8%A7%D8%B1%D9%88%D8%AE)\n",
      "https://cs.wikipedia.org/wiki/Python_(st%C5%99ela)\n",
      "https://de.wikipedia.org/wiki/Python-3\n",
      "https://es.wikipedia.org/wiki/RAFAEL_Python\n",
      "https://fr.wikipedia.org/wiki/Rafael_Python\n",
      "https://ko.wikipedia.org/wiki/%EB%8D%94%EB%B9%84_%EB%AF%B8%EC%82%AC%EC%9D%BC\n",
      "https://hr.wikipedia.org/wiki/Python_(projektil)\n",
      "https://id.wikipedia.org/wiki/Python_(peluru_kendali)\n",
      "https://it.wikipedia.org/wiki/Python_(missile)\n",
      "https://he.wikipedia.org/wiki/%D7%A4%D7%99%D7%AA%D7%95%D7%9F_(%D7%98%D7%99%D7%9C)\n",
      "https://hu.wikipedia.org/wiki/Rafael_Derby\n",
      "https://ja.wikipedia.org/wiki/%E3%83%91%E3%82%A4%E3%82%BD%E3%83%B3_(%E3%83%9F%E3%82%B5%E3%82%A4%E3%83%AB)\n",
      "https://pt.wikipedia.org/wiki/Python_(m%C3%ADssil)\n",
      "https://ru.wikipedia.org/wiki/Rafael_Derby\n",
      "https://sl.wikipedia.org/wiki/Python_(raketa)\n",
      "https://th.wikipedia.org/wiki/%E0%B9%84%E0%B8%9E%E0%B8%98%E0%B8%AD%E0%B8%99-4\n",
      "https://tr.wikipedia.org/wiki/Python_(f%C3%BCze)\n",
      "https://www.wikidata.org/wiki/Special:EntityPage/Q15728#sitelinks-wikipedia\n",
      "//en.wikipedia.org/wiki/Wikipedia:Text_of_Creative_Commons_Attribution-ShareAlike_3.0_Unported_License\n",
      "//creativecommons.org/licenses/by-sa/3.0/\n",
      "//foundation.wikimedia.org/wiki/Terms_of_Use\n",
      "//foundation.wikimedia.org/wiki/Privacy_policy\n",
      "//www.wikimediafoundation.org/\n",
      "https://foundation.wikimedia.org/wiki/Privacy_policy\n",
      "/wiki/Wikipedia:About\n",
      "/wiki/Wikipedia:General_disclaimer\n",
      "//en.wikipedia.org/wiki/Wikipedia:Contact_us\n",
      "https://www.mediawiki.org/wiki/Special:MyLanguage/How_to_contribute\n",
      "https://foundation.wikimedia.org/wiki/Cookie_statement\n",
      "//en.m.wikipedia.org/w/index.php?title=Python_(missile)&mobileaction=toggle_view_mobile\n",
      "https://wikimediafoundation.org/\n",
      "https://www.mediawiki.org/\n"
     ]
    }
   ],
   "source": [
    "new_response=requests.get(new_url)\n",
    "new_soup=BeautifulSoup(new_response.content,\"html.parser\")\n",
    "for link in new_soup.find_all(\"a\"):\n",
    "    if 'href' in link.attrs:\n",
    "        print(link.attrs['href'])"
   ]
  },
  {
   "cell_type": "code",
   "execution_count": null,
   "metadata": {},
   "outputs": [],
   "source": []
  },
  {
   "cell_type": "code",
   "execution_count": null,
   "metadata": {},
   "outputs": [],
   "source": []
  },
  {
   "cell_type": "markdown",
   "metadata": {},
   "source": [
    "#### Number of Titles that have changed in the United States Code since its last release point "
   ]
  },
  {
   "cell_type": "code",
   "execution_count": null,
   "metadata": {},
   "outputs": [],
   "source": [
    "# This is the url you will scrape in this exercise\n",
    "url = 'http://uscode.house.gov/download/download.shtml'"
   ]
  },
  {
   "cell_type": "code",
   "execution_count": null,
   "metadata": {},
   "outputs": [],
   "source": [
    "#your code"
   ]
  },
  {
   "cell_type": "markdown",
   "metadata": {},
   "source": [
    "#### A Python list with the top ten FBI's Most Wanted names "
   ]
  },
  {
   "cell_type": "code",
   "execution_count": null,
   "metadata": {},
   "outputs": [],
   "source": [
    "# This is the url you will scrape in this exercise\n",
    "url = 'https://www.fbi.gov/wanted/topten'"
   ]
  },
  {
   "cell_type": "code",
   "execution_count": null,
   "metadata": {},
   "outputs": [],
   "source": [
    "#your code "
   ]
  },
  {
   "cell_type": "markdown",
   "metadata": {},
   "source": [
    "####  20 latest earthquakes info (date, time, latitude, longitude and region name) by the EMSC as a pandas dataframe"
   ]
  },
  {
   "cell_type": "code",
   "execution_count": null,
   "metadata": {},
   "outputs": [],
   "source": [
    "# This is the url you will scrape in this exercise\n",
    "url = 'https://www.emsc-csem.org/Earthquake/'"
   ]
  },
  {
   "cell_type": "code",
   "execution_count": null,
   "metadata": {},
   "outputs": [],
   "source": [
    "#your code"
   ]
  },
  {
   "cell_type": "markdown",
   "metadata": {},
   "source": [
    "#### Display the date, days, title, city, country of next 25 hackathon events as a Pandas dataframe table"
   ]
  },
  {
   "cell_type": "code",
   "execution_count": null,
   "metadata": {},
   "outputs": [],
   "source": [
    "# This is the url you will scrape in this exercise\n",
    "url ='https://hackevents.co/hackathons'"
   ]
  },
  {
   "cell_type": "code",
   "execution_count": null,
   "metadata": {},
   "outputs": [],
   "source": [
    "#your code"
   ]
  },
  {
   "cell_type": "markdown",
   "metadata": {},
   "source": [
    "#### Count number of tweets by a given Twitter account."
   ]
  },
  {
   "cell_type": "markdown",
   "metadata": {},
   "source": [
    "You will need to include a ***try/except block*** for account names not found. \n",
    "<br>***Hint:*** the program should count the number of tweets for any provided account"
   ]
  },
  {
   "cell_type": "code",
   "execution_count": null,
   "metadata": {},
   "outputs": [],
   "source": [
    "# This is the url you will scrape in this exercise \n",
    "# You will need to add the account credentials to this url\n",
    "url = 'https://twitter.com/'"
   ]
  },
  {
   "cell_type": "code",
   "execution_count": null,
   "metadata": {},
   "outputs": [],
   "source": [
    "#your code"
   ]
  },
  {
   "cell_type": "markdown",
   "metadata": {},
   "source": [
    "#### Number of followers of a given twitter account"
   ]
  },
  {
   "cell_type": "markdown",
   "metadata": {},
   "source": [
    "You will need to include a ***try/except block*** in case account/s name not found. \n",
    "<br>***Hint:*** the program should count the followers for any provided account"
   ]
  },
  {
   "cell_type": "code",
   "execution_count": null,
   "metadata": {},
   "outputs": [],
   "source": [
    "# This is the url you will scrape in this exercise \n",
    "# You will need to add the account credentials to this url\n",
    "url = 'https://twitter.com/'"
   ]
  },
  {
   "cell_type": "code",
   "execution_count": null,
   "metadata": {},
   "outputs": [],
   "source": [
    "#your code"
   ]
  },
  {
   "cell_type": "markdown",
   "metadata": {},
   "source": [
    "#### List all language names and number of related articles in the order they appear in wikipedia.org"
   ]
  },
  {
   "cell_type": "code",
   "execution_count": null,
   "metadata": {},
   "outputs": [],
   "source": [
    "# This is the url you will scrape in this exercise\n",
    "url = 'https://www.wikipedia.org/'"
   ]
  },
  {
   "cell_type": "code",
   "execution_count": null,
   "metadata": {},
   "outputs": [],
   "source": [
    "#your code"
   ]
  },
  {
   "cell_type": "markdown",
   "metadata": {},
   "source": [
    "#### A list with the different kind of datasets available in data.gov.uk "
   ]
  },
  {
   "cell_type": "code",
   "execution_count": null,
   "metadata": {},
   "outputs": [],
   "source": [
    "# This is the url you will scrape in this exercise\n",
    "url = 'https://data.gov.uk/'"
   ]
  },
  {
   "cell_type": "code",
   "execution_count": null,
   "metadata": {},
   "outputs": [],
   "source": [
    "#your code "
   ]
  },
  {
   "cell_type": "markdown",
   "metadata": {},
   "source": [
    "#### Top 10 languages by number of native speakers stored in a Pandas Dataframe"
   ]
  },
  {
   "cell_type": "code",
   "execution_count": null,
   "metadata": {},
   "outputs": [],
   "source": [
    "# This is the url you will scrape in this exercise\n",
    "url = 'https://en.wikipedia.org/wiki/List_of_languages_by_number_of_native_speakers'"
   ]
  },
  {
   "cell_type": "code",
   "execution_count": null,
   "metadata": {},
   "outputs": [],
   "source": [
    "#your code"
   ]
  },
  {
   "cell_type": "markdown",
   "metadata": {},
   "source": [
    "### BONUS QUESTIONS"
   ]
  },
  {
   "cell_type": "markdown",
   "metadata": {},
   "source": [
    "#### Scrape a certain number of tweets of a given Twitter account."
   ]
  },
  {
   "cell_type": "code",
   "execution_count": null,
   "metadata": {},
   "outputs": [],
   "source": [
    "# This is the url you will scrape in this exercise \n",
    "# You will need to add the account credentials to this url\n",
    "url = 'https://twitter.com/'"
   ]
  },
  {
   "cell_type": "code",
   "execution_count": null,
   "metadata": {},
   "outputs": [],
   "source": [
    "# your code"
   ]
  },
  {
   "cell_type": "markdown",
   "metadata": {},
   "source": [
    "#### IMDB's Top 250 data (movie name, Initial release, director name and stars) as a pandas dataframe"
   ]
  },
  {
   "cell_type": "code",
   "execution_count": null,
   "metadata": {},
   "outputs": [],
   "source": [
    "# This is the url you will scrape in this exercise \n",
    "url = 'https://www.imdb.com/chart/top'"
   ]
  },
  {
   "cell_type": "code",
   "execution_count": null,
   "metadata": {},
   "outputs": [],
   "source": [
    "# your code"
   ]
  },
  {
   "cell_type": "markdown",
   "metadata": {},
   "source": [
    "#### Movie name, year and a brief summary of the top 10 random movies (IMDB) as a pandas dataframe."
   ]
  },
  {
   "cell_type": "code",
   "execution_count": null,
   "metadata": {},
   "outputs": [],
   "source": [
    "#This is the url you will scrape in this exercise\n",
    "url = 'http://www.imdb.com/chart/top'"
   ]
  },
  {
   "cell_type": "code",
   "execution_count": null,
   "metadata": {},
   "outputs": [],
   "source": [
    "#your code"
   ]
  },
  {
   "cell_type": "markdown",
   "metadata": {},
   "source": [
    "#### Find the live weather report (temperature, wind speed, description and weather) of a given city."
   ]
  },
  {
   "cell_type": "code",
   "execution_count": null,
   "metadata": {},
   "outputs": [],
   "source": [
    "#https://openweathermap.org/current\n",
    "city = city=input('Enter the city:')\n",
    "url = 'http://api.openweathermap.org/data/2.5/weather?'+'q='+city+'&APPID=b35975e18dc93725acb092f7272cc6b8&units=metric'"
   ]
  },
  {
   "cell_type": "code",
   "execution_count": null,
   "metadata": {},
   "outputs": [],
   "source": [
    "# your code"
   ]
  },
  {
   "cell_type": "markdown",
   "metadata": {},
   "source": [
    "#### Book name,price and stock availability as a pandas dataframe."
   ]
  },
  {
   "cell_type": "code",
   "execution_count": null,
   "metadata": {},
   "outputs": [],
   "source": [
    "# This is the url you will scrape in this exercise. \n",
    "# It is a fictional bookstore created to be scraped. \n",
    "url = 'http://books.toscrape.com/'"
   ]
  },
  {
   "cell_type": "code",
   "execution_count": null,
   "metadata": {},
   "outputs": [],
   "source": [
    "#your code"
   ]
  }
 ],
 "metadata": {
  "kernelspec": {
   "display_name": "Python 3",
   "language": "python",
   "name": "python3"
  },
  "language_info": {
   "codemirror_mode": {
    "name": "ipython",
    "version": 3
   },
   "file_extension": ".py",
   "mimetype": "text/x-python",
   "name": "python",
   "nbconvert_exporter": "python",
   "pygments_lexer": "ipython3",
   "version": "3.7.4"
  }
 },
 "nbformat": 4,
 "nbformat_minor": 2
}
