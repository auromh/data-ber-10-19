{
 "cells": [
  {
   "cell_type": "markdown",
   "metadata": {},
   "source": [
    "In the cell below, create a Python function that wraps your previous solution for the Bag of Words lab.\n",
    "\n",
    "Requirements:\n",
    "\n",
    "1. Your function should accept the following parameters:\n",
    "    * `docs` [REQUIRED] - array of document paths.\n",
    "    * `stop_words` [OPTIONAL] - array of stop words. The default value is an empty array.\n",
    "\n",
    "1. Your function should return a Python object that contains the following:\n",
    "    * `bag_of_words` - array of strings of normalized unique words in the corpus.\n",
    "    * `term_freq` - array of the term-frequency vectors."
   ]
  },
  {
   "cell_type": "code",
   "execution_count": 3,
   "metadata": {},
   "outputs": [],
   "source": [
    "# Import required libraries\n",
    "\n",
    "# Define function\n",
    "def get_bow_from_docs(docs, stop_words=[]):\n",
    "    \n",
    "    # In the function, first define the variables you will use such as `corpus`, `bag_of_words`, and `term_freq`.\n",
    "    corpus=[]\n",
    "    bag_of_words=[]\n",
    "    term_freq=[]\n",
    "    \"\"\"\n",
    "    Loop `docs` and read the content of each doc into a string in `corpus`.\n",
    "    Remember to convert the doc content to lowercases and remove punctuation.\n",
    "    \"\"\"\n",
    "    y=[]\n",
    "    for x in docs:\n",
    "        y.append(open(x,'r'))\n",
    "    for d in range(len(y)):\n",
    "        corpus.append(y[d].read())\n",
    "    \n",
    "    corpus2=[]\n",
    "    for c in corpus:\n",
    "        if c.endswith(\".\"):\n",
    "            corpus2.append(c[0:-1].lower())\n",
    "        else:\n",
    "            corpus2.append(c.lower())\n",
    "    \n",
    "    \"\"\"\n",
    "    Loop `corpus`. Append the terms in each doc into the `bag_of_words` array. The terms in `bag_of_words` \n",
    "    should be unique which means before adding each term you need to check if it's already added to the array.\n",
    "    In addition, check if each term is in the `stop_words` array. Only append the term to `bag_of_words`\n",
    "    if it is not a stop word.\n",
    "    \"\"\"\n",
    "    for x in corpus2:\n",
    "        w=(x.split(\" \"))\n",
    "        for z in w:\n",
    "            if z not in bag_of_words and z not in stop_words:\n",
    "                bag_of_words.append(z)\n",
    "\n",
    "\n",
    "    \"\"\"\n",
    "    Loop `corpus` again. For each doc string, count the number of occurrences of each term in `bag_of_words`. \n",
    "    Create an array for each doc's term frequency and append it to `term_freq`.\n",
    "    \"\"\"\n",
    "    for x in corpus2:\n",
    "        freq=[]\n",
    "        for words in bag_of_words:\n",
    "            if words in x.split(\" \"):\n",
    "                freq.append(1)\n",
    "            else:\n",
    "                freq.append(0)\n",
    "        term_freq.append(freq)\n",
    "    \n",
    "    \n",
    "    # Now return your output as an object\n",
    "    return {\n",
    "        \"bag_of_words\": bag_of_words,\n",
    "        \"term_freq\": term_freq\n",
    "    }\n",
    "    "
   ]
  },
  {
   "cell_type": "markdown",
   "metadata": {},
   "source": [
    "Test your function without stop words. You should see the output like below:\n",
    "\n",
    "```{'bag_of_words': ['ironhack', 'is', 'cool', 'i', 'love', 'am', 'a', 'student', 'at'], 'term_freq': [[1, 1, 1, 0, 0, 0, 0, 0, 0], [1, 0, 0, 1, 1, 0, 0, 0, 0], [1, 0, 0, 1, 0, 1, 1, 1, 1]]}```"
   ]
  },
  {
   "cell_type": "code",
   "execution_count": 4,
   "metadata": {},
   "outputs": [
    {
     "name": "stdout",
     "output_type": "stream",
     "text": [
      "{'bag_of_words': ['ironhack', 'is', 'cool', 'i', 'love', 'am', 'a', 'student', 'at'], 'term_freq': [[1, 1, 1, 0, 0, 0, 0, 0, 0], [1, 0, 0, 1, 1, 0, 0, 0, 0], [1, 0, 0, 1, 0, 1, 1, 1, 1]]}\n"
     ]
    }
   ],
   "source": [
    "# Define doc paths array\n",
    "docs = ['doc1.txt', 'doc2.txt', 'doc3.txt']\n",
    "\n",
    "# Obtain BoW from your function\n",
    "bow = get_bow_from_docs(docs)\n",
    "\n",
    "# Print BoW\n",
    "print(bow)"
   ]
  },
  {
   "cell_type": "markdown",
   "metadata": {},
   "source": [
    "If your attempt above is successful, nice work done!\n",
    "\n",
    "Now test your function again with the stop words. In the previous lab we defined the stop words in a large array. In this lab, we'll import the stop words from Scikit-Learn."
   ]
  },
  {
   "cell_type": "code",
   "execution_count": 5,
   "metadata": {},
   "outputs": [
    {
     "name": "stdout",
     "output_type": "stream",
     "text": [
      "frozenset({'for', 'and', 'found', 'already', 'never', 'both', 'whose', 'these', 'beforehand', 'system', 'my', 'formerly', 'by', 'get', 'nobody', 'beside', 'thru', 'where', 'fire', 'or', 'very', 'amount', 'while', 'some', 'me', 'wherein', 'empty', 'noone', 'themselves', 'at', 'fill', 'must', 'you', 'how', 'interest', 'whither', 'yours', 'although', 'latterly', 'myself', 'her', 'be', 'now', 'their', 'find', 'other', 'each', 'whenever', 'ie', 'than', 'of', 'whatever', 'cannot', 'together', 'though', 'even', 'his', 'front', 'another', 'nowhere', 'since', 'it', 'up', 'no', 'con', 'per', 'about', 'our', 'us', 'only', 'been', 'down', 'part', 'twelve', 'your', 'fifty', 'namely', 'former', 'eg', 'thence', 'in', 'below', 'ours', 'something', 'neither', 'a', 'before', 'until', 'am', 'put', 'anything', 'indeed', 'whom', 'she', 'bill', 'if', 'everywhere', 'hence', 'keep', 'would', 'whoever', 'except', 'often', 'might', 'alone', 'sincere', 'into', 'elsewhere', 'among', 'co', 'are', 'that', 'an', 'as', 'de', 'during', 'always', 'hereby', 'name', 'once', 'see', 'detail', 'somehow', 'upon', 'seeming', 'have', 'but', 're', 'last', 'mine', 'the', 'three', 'side', 'nothing', 'they', 'most', 'sometime', 'somewhere', 'fifteen', 'with', 'thereafter', 'call', 'were', 'yourselves', 'ten', 'between', 'still', 'bottom', 'seemed', 'anyway', 'too', 'was', 'himself', 'whether', 'least', 'is', 'moreover', 'anyone', 'all', 'become', 'cry', 'else', 'could', 'inc', 'thereby', 'others', 'not', 'show', 'itself', 'forty', 'serious', 'nine', 'move', 'every', 'few', 'ever', 'thick', 'through', 'which', 'around', 'becoming', 'again', 'via', 'next', 'what', 'whereupon', 'anyhow', 'well', 'ourselves', 'over', 'whereas', 'cant', 'on', 'amoungst', 'behind', 'had', 'such', 'after', 'hundred', 'within', 'five', 'becomes', 'has', 'hers', 'back', 'hereafter', 'to', 'enough', 'however', 'seems', 'done', 'herein', 'i', 'third', 'meanwhile', 'may', 'then', 'him', 'much', 'whereby', 'everything', 'made', 'because', 'take', 'therefore', 'seem', 'toward', 'several', 'give', 'across', 'almost', 'more', 'hasnt', 'none', 'without', 'out', 'sixty', 'nevertheless', 'mostly', 'should', 'go', 'nor', 'became', 'here', 'please', 'two', 'less', 'any', 'its', 'thin', 'eight', 'wherever', 'from', 'amongst', 'six', 'many', 'own', 'whereafter', 'above', 'everyone', 'latter', 'those', 'why', 'against', 'he', 'who', 'describe', 'rather', 'beyond', 'etc', 'can', 'herself', 'first', 'one', 'ltd', 'sometimes', 'whole', 'so', 'we', 'someone', 'therein', 'couldnt', 'hereupon', 'there', 'towards', 'four', 'mill', 'further', 'thereupon', 'this', 'due', 'eleven', 'when', 'either', 'un', 'otherwise', 'yet', 'will', 'thus', 'do', 'besides', 'yourself', 'also', 'being', 'perhaps', 'them', 'under', 'full', 'afterwards', 'along', 'throughout', 'off', 'whence', 'twenty', 'anywhere', 'top', 'same', 'onto'})\n"
     ]
    }
   ],
   "source": [
    "from sklearn.feature_extraction import stop_words\n",
    "print(stop_words.ENGLISH_STOP_WORDS)"
   ]
  },
  {
   "cell_type": "markdown",
   "metadata": {},
   "source": [
    "You should have seen a large list of words that looks like:\n",
    "\n",
    "```frozenset({'across', 'mine', 'cannot', ...})```\n",
    "\n",
    "`frozenset` is a type of Python object that is immutable. In this lab you can use it just like an array without conversion."
   ]
  },
  {
   "cell_type": "markdown",
   "metadata": {},
   "source": [
    "Next, test your function with supplying `stop_words.ENGLISH_STOP_WORDS` as the second parameter."
   ]
  },
  {
   "cell_type": "code",
   "execution_count": 7,
   "metadata": {},
   "outputs": [
    {
     "name": "stdout",
     "output_type": "stream",
     "text": [
      "{'bag_of_words': ['ironhack', 'cool', 'love', 'student'], 'term_freq': [[1, 1, 0, 0], [1, 0, 1, 0], [1, 0, 0, 1]]}\n"
     ]
    }
   ],
   "source": [
    "bow = get_bow_from_docs(docs, stop_words.ENGLISH_STOP_WORDS)\n",
    "\n",
    "print(bow)"
   ]
  },
  {
   "cell_type": "markdown",
   "metadata": {},
   "source": [
    "You should have seen:\n",
    "\n",
    "```{'bag_of_words': ['ironhack', 'cool', 'love', 'student'], 'term_freq': [[1, 1, 0, 0], [1, 0, 1, 0], [1, 0, 0, 1]]}```"
   ]
  },
  {
   "cell_type": "code",
   "execution_count": null,
   "metadata": {},
   "outputs": [],
   "source": []
  }
 ],
 "metadata": {
  "kernelspec": {
   "display_name": "Python 3",
   "language": "python",
   "name": "python3"
  },
  "language_info": {
   "codemirror_mode": {
    "name": "ipython",
    "version": 3
   },
   "file_extension": ".py",
   "mimetype": "text/x-python",
   "name": "python",
   "nbconvert_exporter": "python",
   "pygments_lexer": "ipython3",
   "version": "3.7.4"
  }
 },
 "nbformat": 4,
 "nbformat_minor": 2
}
