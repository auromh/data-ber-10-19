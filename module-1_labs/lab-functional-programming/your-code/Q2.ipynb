{
 "cells": [
  {
   "cell_type": "markdown",
   "metadata": {},
   "source": [
    "Now we want to enhance the `get_bow_from_docs` function so that it will work with HTML webpages. In HTML, there are a lot of messy codes such as HTML tags, Javascripts, [unicodes](https://www.w3schools.com/charsets/ref_utf_misc_symbols.asp) that will mess up your bag of words. We need to clean up those junk before generating BoW.\n",
    "\n",
    "Next, what you will do is to define several new functions each of which is specialized to clean up the HTML codes in one aspect. For instance, you can have a `strip_html_tags` function to remove all HTML tags, a `remove_punctuation` function to remove all punctuation, a `to_lower_case` function to convert string to lowercase, and a `remove_unicode` function to remove all unicodes.\n",
    "\n",
    "Then in your `get_bow_from_doc` function, you will call each of those functions you created to clean up the HTML before you generate the corpus.\n",
    "\n",
    "Note: Please use Python string operations and regular expression only in this lab. Do not use extra libraries such as `beautifulsoup` because otherwise you loose the purpose of practicing."
   ]
  },
  {
   "cell_type": "code",
   "execution_count": 112,
   "metadata": {},
   "outputs": [],
   "source": [
    "# Define your string handling functions below\n",
    "# Minimal 3 functions\n",
    "import re\n",
    "\n",
    "def strip_html_tags(url):\n",
    "    return(url[0:-4])\n",
    "    \n",
    "def remove_punctuation(url):\n",
    "    newurl=[]\n",
    "    for x in url:\n",
    "        if x!=\".\":\n",
    "            newurl.append(x)\n",
    "    ret=\"\".join(newurl)\n",
    "    return(ret)\n",
    "    \n",
    "def to_lower_case(url):\n",
    "    return(url.lower())\n",
    "\n",
    "def www_en_out(url):\n",
    "    if url.startswith(\"www\"):\n",
    "        return(url[3:])\n",
    "    elif url.startswith(\"en\"):\n",
    "        return(url[2:])\n",
    "    else:\n",
    "        return (url)\n",
    "\n",
    "def org_com_out(url):\n",
    "    #coursereportcom_ironhack\n",
    "    splitted=url.split(\"_\")\n",
    "    #splitted=[courseportcom,ironhack]\n",
    "    res=[]\n",
    "    for s in splitted:\n",
    "        if s.endswith(\"com\") or s.endswith(\"org\"):\n",
    "            res.append(s[:-3])\n",
    "        else:\n",
    "            res.append(s)\n",
    "    d=\" \".join(res)\n",
    "    #print(\"res is:\",d)\n",
    "    return d\n",
    "#def remove_unicode(url):\n",
    "    "
   ]
  },
  {
   "cell_type": "markdown",
   "metadata": {},
   "source": [
    "Next, paste your previously written `get_bow_from_docs` function below. Call your functions above at the appropriate place."
   ]
  },
  {
   "cell_type": "code",
   "execution_count": 115,
   "metadata": {},
   "outputs": [],
   "source": [
    "def get_bow_from_docs(docs, stop_words=[]):\n",
    "    # In the function, first define the variables you will use such as `corpus`, `bag_of_words`, and `term_freq`.\n",
    "    corpus = []\n",
    "    bag_of_words = []\n",
    "    term_freq = []\n",
    "    \n",
    "    # write your codes here\n",
    "    for x in range(len(docs)):\n",
    "        corpus.append(docs[x])\n",
    "    \n",
    "    corpus2=[]\n",
    "    for c in corpus:\n",
    "        corpus2.append(strip_html_tags(c))\n",
    "    corpus3=[]\n",
    "    for c in corpus2:\n",
    "        corpus3.append(remove_punctuation(c))\n",
    "    corpus4=[]\n",
    "    for c in corpus3:\n",
    "        corpus4.append(to_lower_case(c))\n",
    "    corpus5=[]\n",
    "    for c in corpus4:\n",
    "        corpus5.append(www_en_out(c))\n",
    "    corpus6=[]\n",
    "    for c in corpus5:\n",
    "        corpus6.append(org_com_out(c))\n",
    "   \n",
    "    for x in corpus6:\n",
    "        for z in x.split(\" \"):\n",
    "            if z not in bag_of_words and z not in stop_words:\n",
    "                bag_of_words.append(z)\n",
    "\n",
    "    for x in corpus6:\n",
    "        freq=[]\n",
    "        for words in bag_of_words:\n",
    "            if words in x.split(\" \"):\n",
    "                freq.append(1)\n",
    "            else:\n",
    "                freq.append(0)\n",
    "        term_freq.append(freq)\n",
    "    \n",
    "    \n",
    "    \n",
    "    return {\n",
    "        \"bag_of_words\": bag_of_words,\n",
    "        \"term_freq\": term_freq\n",
    "    }\n",
    "    "
   ]
  },
  {
   "cell_type": "markdown",
   "metadata": {},
   "source": [
    "Next, read the content from the three HTML webpages in the `your-codes` directory to test your function."
   ]
  },
  {
   "cell_type": "code",
   "execution_count": 116,
   "metadata": {},
   "outputs": [
    {
     "name": "stdout",
     "output_type": "stream",
     "text": [
      "{'bag_of_words': ['coursereport', 'ironhack', 'wikipedia', 'data', 'analysis', 'lipsum'], 'term_freq': [[1, 1, 0, 0, 0, 0], [0, 0, 1, 1, 1, 0], [0, 0, 0, 0, 0, 1]]}\n"
     ]
    }
   ],
   "source": [
    "from sklearn.feature_extraction import stop_words\n",
    "bow = get_bow_from_docs([\n",
    "        'www.coursereport.com_ironhack.html',\n",
    "        'en.wikipedia.org_Data_analysis.html',\n",
    "        'www.lipsum.com.html'\n",
    "    ],\n",
    "    stop_words.ENGLISH_STOP_WORDS\n",
    ")\n",
    "\n",
    "print(bow)"
   ]
  },
  {
   "cell_type": "markdown",
   "metadata": {},
   "source": [
    "Do you see any problem in the output? How do you improve the output?\n",
    "\n",
    "A good way to improve your codes is to look into the HTML data sources and try to understand where the messy output came from. A good data analyst always learns about the data in depth in order to perform the job well.\n",
    "\n",
    "Spend 20-30 minutes to improve your functions or until you feel you are good at string operations. This lab is just a practice so you don't need to stress yourself out. If you feel you've practiced enough you can stop and move on the next challenge question."
   ]
  },
  {
   "cell_type": "code",
   "execution_count": null,
   "metadata": {},
   "outputs": [],
   "source": []
  }
 ],
 "metadata": {
  "kernelspec": {
   "display_name": "Python 3",
   "language": "python",
   "name": "python3"
  },
  "language_info": {
   "codemirror_mode": {
    "name": "ipython",
    "version": 3
   },
   "file_extension": ".py",
   "mimetype": "text/x-python",
   "name": "python",
   "nbconvert_exporter": "python",
   "pygments_lexer": "ipython3",
   "version": "3.7.4"
  }
 },
 "nbformat": 4,
 "nbformat_minor": 2
}
